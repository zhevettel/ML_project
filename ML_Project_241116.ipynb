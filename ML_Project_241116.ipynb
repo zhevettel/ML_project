{
 "cells": [
  {
   "cell_type": "code",
   "execution_count": 1,
   "metadata": {},
   "outputs": [],
   "source": [
    "#pip install kagglehub"
   ]
  },
  {
   "cell_type": "code",
   "execution_count": 2,
   "metadata": {},
   "outputs": [
    {
     "name": "stderr",
     "output_type": "stream",
     "text": [
      "/Library/Frameworks/Python.framework/Versions/3.11/lib/python3.11/site-packages/tqdm/auto.py:21: TqdmWarning: IProgress not found. Please update jupyter and ipywidgets. See https://ipywidgets.readthedocs.io/en/stable/user_install.html\n",
      "  from .autonotebook import tqdm as notebook_tqdm\n"
     ]
    }
   ],
   "source": [
    "import pandas as pd\n",
    "import kagglehub\n",
    "import os\n",
    "from sklearn.feature_extraction.text import TfidfVectorizer\n",
    "from sklearn.model_selection import train_test_split\n",
    "from sklearn.naive_bayes import MultinomialNB\n",
    "from sklearn.pipeline import make_pipeline\n",
    "from sklearn.preprocessing import LabelEncoder"
   ]
  },
  {
   "cell_type": "code",
   "execution_count": 3,
   "metadata": {},
   "outputs": [],
   "source": [
    "# Download latest version\n",
    "path = kagglehub.dataset_download(\"prakharrathi25/reddit-data-huge\")"
   ]
  },
  {
   "cell_type": "code",
   "execution_count": 4,
   "metadata": {},
   "outputs": [
    {
     "name": "stdout",
     "output_type": "stream",
     "text": [
      "<class 'pandas.core.frame.DataFrame'>\n",
      "RangeIndex: 37580 entries, 0 to 37579\n",
      "Data columns (total 15 columns):\n",
      " #   Column         Non-Null Count  Dtype  \n",
      "---  ------         --------------  -----  \n",
      " 0   Unnamed: 0     34712 non-null  object \n",
      " 1   ID             34712 non-null  object \n",
      " 2   is_Original    26311 non-null  object \n",
      " 3   Flair          19587 non-null  object \n",
      " 4   num_comments   29179 non-null  float64\n",
      " 5   Title          29179 non-null  object \n",
      " 6   Subreddit      37580 non-null  object \n",
      " 7   Body           16405 non-null  object \n",
      " 8   URL            29179 non-null  object \n",
      " 9   Upvotes        37580 non-null  int64  \n",
      " 10  Comments       27163 non-null  object \n",
      " 11  creation_date  37580 non-null  object \n",
      " 12  is_original    2868 non-null   object \n",
      " 13  Text           8400 non-null   object \n",
      " 14  Sentiment      8401 non-null   object \n",
      "dtypes: float64(1), int64(1), object(13)\n",
      "memory usage: 4.3+ MB\n"
     ]
    }
   ],
   "source": [
    "# List all CSV files in the folder\n",
    "csv_files = [f for f in os.listdir(path) if f.endswith('.csv')]\n",
    "\n",
    "# Initialize a list to hold DataFrames\n",
    "dataframes = []\n",
    "\n",
    "# Read each CSV file into a DataFrame and add it to the list\n",
    "for csv_file in csv_files:\n",
    "    file_path = os.path.join(path, csv_file)\n",
    "    df = pd.read_csv(file_path)\n",
    "    dataframes.append(df)\n",
    "\n",
    "# Optionally, combine all DataFrames into a single DataFrame\n",
    "combined_df = pd.concat(dataframes, ignore_index=True)\n",
    "\n",
    "combined_df.info()"
   ]
  },
  {
   "cell_type": "code",
   "execution_count": 8,
   "metadata": {},
   "outputs": [],
   "source": [
    "import re\n",
    "import pandas as pd\n",
    "from sklearn.feature_extraction.text import ENGLISH_STOP_WORDS\n",
    "from collections import Counter\n",
    "\n",
    "\n",
    "\n",
    "\n",
    "# Data Cleaning and Preprocessing without NLTK\n",
    "def preprocess_text(text):\n",
    "    # Convert to lowercase\n",
    "    if isinstance(text, float):\n",
    "        text = str(text)\n",
    "    text = text.lower()\n",
    "    # Remove special characters and digits\n",
    "    text = re.sub(r'[^a-z\\s]', '', text)\n",
    "    # Tokenize words\n",
    "    words = text.split()\n",
    "    # Remove stopwords using sklearn's ENGLISH_STOP_WORDS\n",
    "    words = [word for word in words if word not in ENGLISH_STOP_WORDS]\n",
    "    return ' '.join(words)\n",
    "\n",
    "# Apply preprocessing to the text data\n",
    "combined_df['Text'] = (combined_df['Title'] + ' ' + \n",
    "                                 combined_df['Body'].fillna('')).apply(preprocess_text)\n",
    "\n"
   ]
  },
  {
   "cell_type": "code",
   "execution_count": 9,
   "metadata": {},
   "outputs": [
    {
     "name": "stdout",
     "output_type": "stream",
     "text": [
      "Best Model Accuracy: 0.5876796168174561\n"
     ]
    }
   ],
   "source": [
    "from sklearn.feature_extraction.text import TfidfVectorizer\n",
    "from sklearn.linear_model import LogisticRegression\n",
    "from sklearn.model_selection import train_test_split, GridSearchCV\n",
    "from sklearn.preprocessing import LabelEncoder\n",
    "from sklearn.pipeline import make_pipeline\n",
    "\n",
    "# Encode Subreddit labels\n",
    "label_encoder = LabelEncoder()\n",
    "combined_df['Label'] = label_encoder.fit_transform(combined_df['Subreddit'])\n",
    "\n",
    "# Split data\n",
    "X = combined_df['Text']\n",
    "y = combined_df['Label']\n",
    "X_train, X_test, y_train, y_test = train_test_split(X, y, test_size=0.2, random_state=42)\n",
    "\n",
    "# Create a pipeline with TF-IDF and Logistic Regression\n",
    "pipeline = make_pipeline(\n",
    "    TfidfVectorizer(max_df=0.9, min_df=5, ngram_range=(1, 2), max_features=10000, sublinear_tf=True),\n",
    "    LogisticRegression(solver='lbfgs',max_iter=500)\n",
    ")\n",
    "\n",
    "# Grid Search for Hyperparameter Tuning\n",
    "param_grid = {\n",
    "    'logisticregression__C': [0.1, 1, 10, 100],  # Regularization strength\n",
    "    'logisticregression__solver': ['liblinear', 'saga']  # Solver type\n",
    "}\n",
    "grid = GridSearchCV(pipeline, param_grid, cv=5)\n",
    "grid.fit(X_train, y_train)\n",
    "\n",
    "# Evaluate best model\n",
    "best_model = grid.best_estimator_\n",
    "accuracy = best_model.score(X_test, y_test)\n",
    "print(f\"Best Model Accuracy: {accuracy}\")"
   ]
  },
  {
   "cell_type": "code",
   "execution_count": null,
   "metadata": {},
   "outputs": [],
   "source": []
  }
 ],
 "metadata": {
  "kernelspec": {
   "display_name": "Python 3",
   "language": "python",
   "name": "python3"
  },
  "language_info": {
   "codemirror_mode": {
    "name": "ipython",
    "version": 3
   },
   "file_extension": ".py",
   "mimetype": "text/x-python",
   "name": "python",
   "nbconvert_exporter": "python",
   "pygments_lexer": "ipython3",
   "version": "3.11.3"
  }
 },
 "nbformat": 4,
 "nbformat_minor": 2
}
